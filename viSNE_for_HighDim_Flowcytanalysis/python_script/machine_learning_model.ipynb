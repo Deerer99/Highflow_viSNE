{
 "cells": [
  {
   "cell_type": "code",
   "execution_count": 33,
   "metadata": {},
   "outputs": [],
   "source": [
    "import pandas as pd\n",
    "import numpy as np\n",
    "import random as rd\n",
    "import os\n",
    "from sklearn.model_selection import train_test_split\n",
    "from sklearn.ensemble import RandomForestClassifier\n",
    "from sklearn.metrics import accuracy_score, classification_report\n",
    "import matplotlib.pyplot as plt\n",
    "#maybe use different lib \n",
    "import flowkit as fk\n",
    "import random\n",
    "from sklearn import preprocessing\n",
    "from sklearn.manifold import TSNE\n",
    "import numpy as np\n",
    "import matplotlib.pyplot as plt\n",
    "from matplotlib.path import Path"
   ]
  },
  {
   "cell_type": "code",
   "execution_count": 34,
   "metadata": {},
   "outputs": [],
   "source": [
    "# write function that takes fcs files for microplastics and normal scrambels and labels them in matrix\n",
    "csv_path = r\"C:\\Users\\bruno\\OneDrive\\Desktop\\Programmer\\viSNE_maps_and_data\\Data\\Data_Xinje\\Some Data from Xinjie Project\\Mineral particles and microplastics\"\n",
    "\n",
    "def create_synthetic_data(csv_path):\n",
    "    # import \n",
    "    labled_dfs = []\n",
    "    for filename in os.listdir(csv_path):\n",
    "        file_path = os.path.join(csv_path,filename)\n",
    "        df= pd.read_csv(file_path)\n",
    "        # label\n",
    "\n",
    "        if \"MP\" in filename:\n",
    "            df[\"Label\"] = 1\n",
    "        else: \n",
    "            df[\"Label\"] = 2\n",
    "\n",
    "        labled_dfs.append(df)\n",
    "    return labled_dfs\n",
    "\n",
    "\n"
   ]
  },
  {
   "cell_type": "code",
   "execution_count": 38,
   "metadata": {},
   "outputs": [
    {
     "name": "stdout",
     "output_type": "stream",
     "text": [
      "accuracy:0.87\n",
      "Classification Report:\n",
      "              precision    recall  f1-score   support\n",
      "\n",
      "           1       0.79      0.49      0.60      5965\n",
      "           2       0.88      0.97      0.92     22698\n",
      "\n",
      "    accuracy                           0.87     28663\n",
      "   macro avg       0.83      0.73      0.76     28663\n",
      "weighted avg       0.86      0.87      0.85     28663\n",
      "\n"
     ]
    }
   ],
   "source": [
    "# implement machine learning model, use Y to predict labels\n",
    "\n",
    "labeld_dfs = create_synthetic_data(csv_path=csv_path)\n",
    "combined_df = pd.concat(labeld_dfs,ignore_index=True)\n",
    "combined_df_rand= combined_df.sample(frac=1,random_state=42).reset_index(drop=True)\n",
    "train_df, test_df = train_test_split(combined_df_rand,test_size=0.2,random_state=42)\n",
    "X_train = train_df.drop(\"Label\",axis=1)\n",
    "y_train = train_df[\"Label\"]\n",
    "\n",
    "X_test = test_df.drop(\"Label\", axis=1)\n",
    "y_test = test_df[\"Label\"]\n",
    "\n",
    "custom_class_weights = {1: 5 , 2:1}\n",
    "\n",
    "rf_class= RandomForestClassifier(class_weight=custom_class_weights,n_estimators=100, random_state=42)\n",
    "\n",
    "rf_class.fit(X_train,y_train)\n",
    "\n",
    "\n",
    "y_pred = rf_class.predict(X_test)\n",
    "\n",
    "accuracy = accuracy_score(y_test,y_pred)\n",
    "report = classification_report(y_test,y_pred)\n",
    "\n",
    "print(f\"accuracy:{accuracy:.2f}\")\n",
    "print(\"Classification Report:\")\n",
    "print(report)\n"
   ]
  },
  {
   "cell_type": "code",
   "execution_count": null,
   "metadata": {},
   "outputs": [],
   "source": [
    "# implement coordinates form tsne in machine learning model"
   ]
  },
  {
   "cell_type": "code",
   "execution_count": null,
   "metadata": {},
   "outputs": [],
   "source": [
    "# visualize in tSNE map "
   ]
  }
 ],
 "metadata": {
  "kernelspec": {
   "display_name": "Python 3",
   "language": "python",
   "name": "python3"
  },
  "language_info": {
   "codemirror_mode": {
    "name": "ipython",
    "version": 3
   },
   "file_extension": ".py",
   "mimetype": "text/x-python",
   "name": "python",
   "nbconvert_exporter": "python",
   "pygments_lexer": "ipython3",
   "version": "3.11.6"
  },
  "orig_nbformat": 4
 },
 "nbformat": 4,
 "nbformat_minor": 2
}
