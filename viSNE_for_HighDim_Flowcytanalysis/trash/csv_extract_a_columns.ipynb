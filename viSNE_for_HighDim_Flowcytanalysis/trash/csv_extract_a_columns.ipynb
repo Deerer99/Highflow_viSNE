{
 "cells": [
  {
   "cell_type": "code",
   "execution_count": 1,
   "metadata": {},
   "outputs": [
    {
     "name": "stdout",
     "output_type": "stream",
     "text": [
      "           FS       SS  FL1 510/20  FL2 542/27     FL3  FL4 620/30   FL5  \\\n",
      "0     88224.0  18016.0       298.0        38.0   423.0        94.0  13.0   \n",
      "1     30512.0   2057.0        76.0        80.0   635.0       184.0  10.0   \n",
      "2     43376.0   4936.0       551.0       279.0   545.0       660.0  34.0   \n",
      "3     50096.0  28848.0       411.0       529.0  1142.0       220.0  53.0   \n",
      "4     29584.0   2140.0       520.0       302.0   356.0       528.0  13.0   \n",
      "...       ...      ...         ...         ...     ...         ...   ...   \n",
      "9777      NaN      NaN         NaN         NaN     NaN         NaN   NaN   \n",
      "9778      NaN      NaN         NaN         NaN     NaN         NaN   NaN   \n",
      "9779      NaN      NaN         NaN         NaN     NaN         NaN   NaN   \n",
      "9780      NaN      NaN         NaN         NaN     NaN         NaN   NaN   \n",
      "9781      NaN      NaN         NaN         NaN     NaN         NaN   NaN   \n",
      "\n",
      "      FL6 660  FL7 725/20  FL8 755  ...  FL2 542/27     FL3  FL4 620/30  \\\n",
      "0        11.0        11.0      9.0  ...       141.0   395.0       234.0   \n",
      "1        13.0        12.0      9.0  ...       192.0   428.0       521.0   \n",
      "2        18.0        19.0     11.0  ...       513.0   525.0       643.0   \n",
      "3        17.0        12.0     15.0  ...      1119.0  1893.0       749.0   \n",
      "4        11.0        10.0     12.0  ...       301.0   525.0       392.0   \n",
      "...       ...         ...      ...  ...         ...     ...         ...   \n",
      "9777      NaN         NaN      NaN  ...         NaN     NaN         NaN   \n",
      "9778      NaN         NaN      NaN  ...         NaN     NaN         NaN   \n",
      "9779      NaN         NaN      NaN  ...         NaN     NaN         NaN   \n",
      "9780      NaN         NaN      NaN  ...         NaN     NaN         NaN   \n",
      "9781      NaN         NaN      NaN  ...         NaN     NaN         NaN   \n",
      "\n",
      "        FL5  FL6 660  FL7 725/20  FL8 755  FL9 460/20  FL10 675  TIME  \n",
      "0      11.0      9.0        16.0     12.0      2362.0    3097.0  26.0  \n",
      "1      25.0     13.0        15.0     17.0      5024.0   12800.0  28.0  \n",
      "2     264.0     47.0        88.0     65.0      2101.0   58352.0  45.0  \n",
      "3      31.0     19.0        14.0     12.0     19744.0   12483.0  53.0  \n",
      "4      40.0     16.0        12.0     14.0      2832.0    8560.0  59.0  \n",
      "...     ...      ...         ...      ...         ...       ...   ...  \n",
      "9777    NaN      NaN         NaN      NaN         NaN       NaN   NaN  \n",
      "9778    NaN      NaN         NaN      NaN         NaN       NaN   NaN  \n",
      "9779    NaN      NaN         NaN      NaN         NaN       NaN   NaN  \n",
      "9780    NaN      NaN         NaN      NaN         NaN       NaN   NaN  \n",
      "9781    NaN      NaN         NaN      NaN         NaN       NaN   NaN  \n",
      "\n",
      "[9782 rows x 1950 columns]\n"
     ]
    }
   ],
   "source": [
    "import os\n",
    "import pandas as pd\n",
    "\n",
    "# Define the directory containing your CSV files\n",
    "directory = r'C:\\Users\\bruno\\OneDrive\\Desktop\\Programmer\\viSNE_maps_and_data\\Data\\Pyrenäen_Data_FCM\\All_data_FCM'\n",
    "\n",
    "# Define the columns you want to extract (1-based index)\n",
    "columns_to_extract = [0,3,6,9,12,15,18,21,24,27,30,33,36]  # Adjust these as needed\n",
    "\n",
    "# Initialize an empty DataFrame to store the extracted data\n",
    "extracted_data = pd.DataFrame()\n",
    "\n",
    "# Loop through each file in the directory\n",
    "for filename in os.listdir(directory):\n",
    "    if filename.endswith('.csv'):\n",
    "        # Load the CSV file into a DataFrame\n",
    "        file_path = os.path.join(directory, filename)\n",
    "        df = pd.read_csv(file_path)\n",
    "        \n",
    "        # Extract the desired columns and append them to the extracted_data DataFrame\n",
    "        extracted_columns = df.iloc[:, [col for col in columns_to_extract]]  \n",
    "        extracted_data = pd.concat([extracted_data, extracted_columns], axis=1)\n",
    "\n",
    "        # Define the new filename with \"_e\" suffix\n",
    "        new_filename = filename.replace('.csv', '_e.csv')\n",
    "        new_file_path = os.path.join(directory, new_filename)\n",
    "\n",
    "        # Save the extracted data to a new CSV file with the modified filename\n",
    "        extracted_columns.to_csv(new_file_path, index=False)\n",
    "\n",
    "# Display the extracted data\n",
    "print(extracted_data)"
   ]
  }
 ],
 "metadata": {
  "kernelspec": {
   "display_name": "Python 3",
   "language": "python",
   "name": "python3"
  },
  "language_info": {
   "codemirror_mode": {
    "name": "ipython",
    "version": 3
   },
   "file_extension": ".py",
   "mimetype": "text/x-python",
   "name": "python",
   "nbconvert_exporter": "python",
   "pygments_lexer": "ipython3",
   "version": "3.11.5"
  },
  "orig_nbformat": 4
 },
 "nbformat": 4,
 "nbformat_minor": 2
}
